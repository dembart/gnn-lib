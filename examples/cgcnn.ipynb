{
 "cells": [
  {
   "cell_type": "markdown",
   "metadata": {},
   "source": [
    "### Train"
   ]
  },
  {
   "cell_type": "code",
   "execution_count": null,
   "metadata": {},
   "outputs": [],
   "source": [
    "from gnn_lib.models import CGCNN\n",
    "from gnn_lib.data_utils import get_atomic_types_mapper, build_dataloader\n",
    "from gnn_lib.utils import load_config\n",
    "from gnn_lib.training import Trainer\n",
    "\n",
    "config = load_config('config.yaml') # see configs/config_cgcnn.yaml\n",
    "mapper = get_atomic_types_mapper(config)\n",
    "model = CGCNN.from_config(mapper, config)\n",
    "\n",
    "print(model.size())\n",
    "\n",
    "train_loader, val_loader = build_dataloader(config, 'train'), build_dataloader(config, 'val')\n",
    "trainer = Trainer(model, config, verbose=False)\n",
    "trainer.train(train_loader, val_loader)"
   ]
  },
  {
   "cell_type": "markdown",
   "metadata": {},
   "source": [
    "### Eval"
   ]
  },
  {
   "cell_type": "code",
   "execution_count": null,
   "metadata": {},
   "outputs": [],
   "source": [
    "device = 'cuda'"
   ]
  },
  {
   "cell_type": "code",
   "execution_count": null,
   "metadata": {},
   "outputs": [],
   "source": [
    "import torch\n",
    "from gnn_lib.models import CGCNN\n",
    "from gnn_lib.utils import load_config\n",
    "from gnn_lib.data_utils import get_atomic_types_mapper, build_dataloader\n",
    "\n",
    "config = load_config('config.yaml')\n",
    "mapper = get_atomic_types_mapper(config)\n",
    "model = CGCNN.from_config(mapper, config)\n",
    "model.from_checkpoint('checkpoints/best_checkpoint.pt')\n",
    "test_loader = build_dataloader(config, 'test')\n",
    "\n",
    "preds = []\n",
    "labels = []\n",
    "model.to(device)\n",
    "model.eval()\n",
    "with torch.no_grad():\n",
    "    for batch in test_loader:\n",
    "        out = model(batch.to(device))\n",
    "        preds.extend(out.detach().cpu().flatten().numpy())\n",
    "        labels.extend(batch.energy.detach().cpu().numpy())"
   ]
  },
  {
   "cell_type": "code",
   "execution_count": null,
   "metadata": {},
   "outputs": [],
   "source": [
    "from gnn_lib.metrics import get_metrics\n",
    "\n",
    "get_metrics(labels, preds)"
   ]
  }
 ],
 "metadata": {
  "kernelspec": {
   "display_name": "Python 3",
   "language": "python",
   "name": "python3"
  },
  "language_info": {
   "codemirror_mode": {
    "name": "ipython",
    "version": 3
   },
   "file_extension": ".py",
   "mimetype": "text/x-python",
   "name": "python",
   "nbconvert_exporter": "python",
   "pygments_lexer": "ipython3",
   "version": "3.8.10"
  }
 },
 "nbformat": 4,
 "nbformat_minor": 2
}
