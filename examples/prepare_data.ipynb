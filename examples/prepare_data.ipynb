{
 "cells": [
  {
   "cell_type": "markdown",
   "metadata": {},
   "source": [
    "#### Toy example"
   ]
  },
  {
   "cell_type": "code",
   "execution_count": null,
   "metadata": {},
   "outputs": [],
   "source": [
    "import numpy as np\n",
    "from ase import Atoms\n",
    "from ase.io import write, read\n",
    "\n",
    "# create atoms object\n",
    "atoms = Atoms(\n",
    "    numbers = [11, 17], # NaCl\n",
    "    cell = np.array([[3.5, 0.0, 0.0], [0.0, 3.5, 0.0], [0.0, 0.0, 3.5]]),\n",
    "    positions = np.array([[0, 0, 0], [1.75, 1.75, 1.75]]),\n",
    "    pbc = True\n",
    ")\n",
    "\n",
    "# store target properties\n",
    "formation_energy_per_atom = -1.884\n",
    "forces = np.array([[0.0, 0.0, 0.0], [0.0, 0.0, 0.0]])\n",
    "atoms.info.update({'ef_per_atom': formation_energy_per_atom})\n",
    "atoms.info.update({'forces': forces})\n",
    "\n",
    "# save 10 samples\n",
    "atoms_list = [atoms] * 10\n",
    "write('toy_example.xyz', atoms_list, format = 'extxyz')"
   ]
  },
  {
   "cell_type": "code",
   "execution_count": 55,
   "metadata": {},
   "outputs": [],
   "source": [
    "from gnn_lib.data import atoms2data\n",
    "\n",
    "# this is done under the hood in the build_dataloader(config, data_split) call.\n",
    "graph_data = atoms2data(atoms, r_cut = 4.5, energy_key = 'ef_per_atom', forces_key='forces') "
   ]
  },
  {
   "cell_type": "code",
   "execution_count": 56,
   "metadata": {},
   "outputs": [
    {
     "data": {
      "text/plain": [
       "tensor(-1.8840)"
      ]
     },
     "execution_count": 56,
     "metadata": {},
     "output_type": "execute_result"
    }
   ],
   "source": [
    "graph_data.energy"
   ]
  },
  {
   "cell_type": "code",
   "execution_count": 40,
   "metadata": {},
   "outputs": [
    {
     "data": {
      "text/plain": [
       "tensor([[0., 0., 0.],\n",
       "        [0., 0., 0.]])"
      ]
     },
     "execution_count": 40,
     "metadata": {},
     "output_type": "execute_result"
    }
   ],
   "source": [
    "graph_data.forces"
   ]
  },
  {
   "cell_type": "code",
   "execution_count": 39,
   "metadata": {},
   "outputs": [
    {
     "data": {
      "text/plain": [
       "tensor([11, 17])"
      ]
     },
     "execution_count": 39,
     "metadata": {},
     "output_type": "execute_result"
    }
   ],
   "source": [
    "graph_data.numbers"
   ]
  },
  {
   "cell_type": "code",
   "execution_count": 31,
   "metadata": {},
   "outputs": [
    {
     "data": {
      "text/plain": [
       "tensor([[0, 0, 0, 0, 0, 1, 0, 0, 0, 1, 0, 0, 1, 0, 1, 0, 1, 1, 0, 1, 1, 1, 0, 1,\n",
       "         1, 1, 1, 1],\n",
       "        [1, 1, 1, 0, 1, 1, 1, 0, 1, 1, 0, 1, 1, 1, 0, 0, 0, 1, 0, 0, 1, 0, 0, 0,\n",
       "         1, 0, 0, 0]])"
      ]
     },
     "execution_count": 31,
     "metadata": {},
     "output_type": "execute_result"
    }
   ],
   "source": [
    "graph_data.edge_index"
   ]
  },
  {
   "cell_type": "code",
   "execution_count": 32,
   "metadata": {},
   "outputs": [
    {
     "data": {
      "text/plain": [
       "tensor([3.0311, 3.0311, 3.0311, 3.5000, 3.0311, 3.5000, 3.0311, 3.5000, 3.0311,\n",
       "        3.5000, 3.5000, 3.0311, 3.5000, 3.0311, 3.0311, 3.5000, 3.0311, 3.5000,\n",
       "        3.5000, 3.0311, 3.5000, 3.0311, 3.5000, 3.0311, 3.5000, 3.0311, 3.0311,\n",
       "        3.0311])"
      ]
     },
     "execution_count": 32,
     "metadata": {},
     "output_type": "execute_result"
    }
   ],
   "source": [
    "graph_data.edge_length"
   ]
  },
  {
   "cell_type": "code",
   "execution_count": 58,
   "metadata": {},
   "outputs": [],
   "source": [
    "from ase.io import read\n",
    "from gnn_lib.data import InMemoryDataset, atoms2data\n",
    "\n",
    "# read saved file\n",
    "atoms_list = read('toy_example.xyz', index = ':')\n",
    "\n",
    "# create dataset from atoms_list\n",
    "data_list = [atoms2data(atoms, r_cut = 4.5, energy_key = 'ef_per_atom', forces_key='forces') for atoms in atoms_list]\n",
    "dataset = InMemoryDataset.from_data_list(data_list)"
   ]
  },
  {
   "cell_type": "code",
   "execution_count": 60,
   "metadata": {},
   "outputs": [],
   "source": [
    "from torch.utils.data import DataLoader\n",
    "from gnn_lib.data_utils import collate_fn\n",
    "\n",
    "# create loader\n",
    "loader = DataLoader(dataset,\n",
    "                    collate_fn = collate_fn,\n",
    "                    batch_size = 2,\n",
    "                    shuffle = True,\n",
    ")\n",
    "\n",
    "for batch in loader:\n",
    "    pass"
   ]
  },
  {
   "cell_type": "code",
   "execution_count": 61,
   "metadata": {},
   "outputs": [
    {
     "data": {
      "text/plain": [
       "tensor([-1.8840, -1.8840])"
      ]
     },
     "execution_count": 61,
     "metadata": {},
     "output_type": "execute_result"
    }
   ],
   "source": [
    "batch.energy"
   ]
  }
 ],
 "metadata": {
  "kernelspec": {
   "display_name": "Python 3",
   "language": "python",
   "name": "python3"
  },
  "language_info": {
   "codemirror_mode": {
    "name": "ipython",
    "version": 3
   },
   "file_extension": ".py",
   "mimetype": "text/x-python",
   "name": "python",
   "nbconvert_exporter": "python",
   "pygments_lexer": "ipython3",
   "version": "3.8.10"
  }
 },
 "nbformat": 4,
 "nbformat_minor": 2
}
